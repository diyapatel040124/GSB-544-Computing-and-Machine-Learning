{
  "cells": [
    {
      "cell_type": "raw",
      "metadata": {
        "id": "Wm7rfPnRrrqm"
      },
      "source": [
        "---\n",
        "title: 'Practice Activity: Basic Syntax'\n",
        "output: html\n",
        "---"
      ]
    },
    {
      "cell_type": "markdown",
      "metadata": {
        "id": "0mbR_4URrrqo"
      },
      "source": [
        "## Overview\n",
        "\n",
        "In this PA, you will will be creating and manipulating basic objects to uncover a top secret message.\n",
        "\n",
        "### Hint 1\n",
        "\n",
        "As you work through this PA, you will encounter some code that does not work as you want it to.  Don't despair!  Errors (when R is unable to run your code) and bugs (when the code doesn't do what you hoped) are a natural part of coding.  Even the best of the best deal with these problems regularly - learning to track down the issue is a skill that you can learn and practice.\n",
        "\n",
        "Google is your friend!  If an error is confusing, copy it into Google and see what other people are saying.  If you don't know how to do something, search for it.\n",
        "\n",
        "### Hint 2\n",
        "\n",
        "Just because there is no error message doesn't mean everything went smoothly.  You should be regularly printing out your objects, to see they contain the information and format that you expect.\n",
        "\n",
        "For example, if you have an object named `my_thing`, you might first want to simply look at the object by typing its name.\n",
        "\n",
        "However, you might also want to make sure it is the right **object type** and/or the right **object structure**.\n"
      ]
    },
    {
      "cell_type": "code",
      "metadata": {
        "id": "D5pSzgxjrrqq",
        "colab": {
          "base_uri": "https://localhost:8080/"
        },
        "outputId": "b67bcfdc-57e0-401e-cce8-d5de775fae55"
      },
      "source": [
        "type(\"my_thing\")\n",
        "string = \"my_thing\"\n",
        "len(string)"
      ],
      "execution_count": null,
      "outputs": [
        {
          "output_type": "execute_result",
          "data": {
            "text/plain": [
              "8"
            ]
          },
          "metadata": {},
          "execution_count": 5
        }
      ]
    },
    {
      "cell_type": "markdown",
      "metadata": {
        "id": "QpUJsmq0rrqr"
      },
      "source": [
        "## Part One: Setup\n",
        "\n",
        "Each of the following code chunks will cause an error and/or do the desired task incorrectly.  Find the mistake, and correct it to complete the intended action.\n",
        "\n",
        "\n",
        "\n",
        "\n",
        "1. Create lists containing the upper case letters, lower case letters, and some punctuation marks.\n"
      ]
    },
    {
      "cell_type": "code",
      "metadata": {
        "id": "tk5bezBJrrqs"
      },
      "source": [
        "lower_case = [\"a\", \"b\", \"c\", \"d\", \"e\", \"f\", \"g\", \"h\", \"i\", \"j\", \"k\", \"l\", \"m\", \"n\", \"o\", \"p\", \"q\", \"r\", \"s\", \"t\", \"u\", \"v\", \"w\", \"x\", \"y\", \"z\"]\n",
        "\n",
        "upper_case = [\"A\", \"B\", \"C\", \"D\", \"E\", \"F\", \"G\", \"H\", \"I\", \"J\", \"K\", \"L\", \"M\", \"N\", \"O\", \"P\", \"Q\", \"R\", \"S\", \"T\", \"U\", \"V\", \"W\", \"X\", \"Y\", \"Z\"]\n",
        "\n",
        "punctuation = [\".\", \",\", \"!\", \"?\", \"'\", \" \\\" \", \"(\", \")\", \" \", \"-\", \";\", \":\"]"
      ],
      "execution_count": null,
      "outputs": []
    },
    {
      "cell_type": "markdown",
      "metadata": {
        "id": "ZejwK6urrrqs"
      },
      "source": [
        "2. Make one long list containing all the symbols.  Find the length of this list.\n"
      ]
    },
    {
      "cell_type": "code",
      "metadata": {
        "id": "l8ZVLLXWrrqs",
        "colab": {
          "base_uri": "https://localhost:8080/"
        },
        "outputId": "7f38efbc-768f-4389-8206-25ab7804ab42"
      },
      "source": [
        "all_symbols = lower_case + upper_case + punctuation\n",
        "\n",
        "len(all_symbols)\n"
      ],
      "execution_count": null,
      "outputs": [
        {
          "output_type": "execute_result",
          "data": {
            "text/plain": [
              "64"
            ]
          },
          "metadata": {},
          "execution_count": 16
        }
      ]
    },
    {
      "cell_type": "code",
      "source": [
        "all_symbols"
      ],
      "metadata": {
        "colab": {
          "base_uri": "https://localhost:8080/"
        },
        "id": "B0o0GsYehWsb",
        "outputId": "e0554d15-7a8f-450f-f181-f41a26978879"
      },
      "execution_count": null,
      "outputs": [
        {
          "output_type": "execute_result",
          "data": {
            "text/plain": [
              "['a',\n",
              " 'b',\n",
              " 'c',\n",
              " 'd',\n",
              " 'e',\n",
              " 'f',\n",
              " 'g',\n",
              " 'h',\n",
              " 'i',\n",
              " 'j',\n",
              " 'k',\n",
              " 'l',\n",
              " 'm',\n",
              " 'n',\n",
              " 'o',\n",
              " 'p',\n",
              " 'q',\n",
              " 'r',\n",
              " 's',\n",
              " 't',\n",
              " 'u',\n",
              " 'v',\n",
              " 'w',\n",
              " 'x',\n",
              " 'y',\n",
              " 'z',\n",
              " 'A',\n",
              " 'B',\n",
              " 'C',\n",
              " 'D',\n",
              " 'E',\n",
              " 'F',\n",
              " 'G',\n",
              " 'H',\n",
              " 'I',\n",
              " 'J',\n",
              " 'K',\n",
              " 'L',\n",
              " 'M',\n",
              " 'N',\n",
              " 'O',\n",
              " 'P',\n",
              " 'Q',\n",
              " 'R',\n",
              " 'S',\n",
              " 'T',\n",
              " 'U',\n",
              " 'V',\n",
              " 'W',\n",
              " 'X',\n",
              " 'Y',\n",
              " 'Z',\n",
              " '.',\n",
              " ',',\n",
              " '!',\n",
              " '?',\n",
              " \"'\",\n",
              " ' \" ',\n",
              " '(',\n",
              " ')',\n",
              " ' ',\n",
              " '-',\n",
              " ';',\n",
              " ':']"
            ]
          },
          "metadata": {},
          "execution_count": 17
        }
      ]
    },
    {
      "cell_type": "markdown",
      "metadata": {
        "id": "HvgV76Dbrrqt"
      },
      "source": [
        "3. Repeat the previous steps, but instead of using *list* type objects, use **numpy arrays**.  Don't forget to **import** the numpy library!\n"
      ]
    },
    {
      "cell_type": "code",
      "metadata": {
        "id": "x9YyIMP6rrqt"
      },
      "source": [
        "import numpy as np\n",
        "\n",
        "lower_case = np.array([\"a\", \"b\", \"c\", \"d\", \"e\", \"f\", \"g\", \"h\", \"i\", \"j\", \"k\", \"l\", \"m\", \"n\", \"o\", \"p\", \"q\", \"r\", \"s\", \"t\", \"u\", \"v\", \"w\", \"x\", \"y\", \"z\"])\n",
        "\n",
        "upper_case = np.array([\"A\", \"B\", \"C\", \"D\", \"E\", \"F\", \"G\", \"H\", \"I\", \"J\", \"K\", \"L\", \"M\", \"N\", \"O\", \"P\", \"Q\", \"R\", \"S\", \"T\", \"U\", \"V\", \"W\", \"X\", \"Y\", \"Z\"])\n",
        "\n",
        "punctuation = np.array([\".\", \",\", \"!\", \"?\", \"\\'\", \"\\\"\", \"(\", \")\", \" \", \"-\", \";\", \":\"])\n",
        "\n",
        "## Use np.concatenate to combine into long array\n",
        "all_symbols = np.concatenate([lower_case, upper_case, punctuation])"
      ],
      "execution_count": null,
      "outputs": []
    },
    {
      "cell_type": "markdown",
      "metadata": {
        "id": "rpbAtPlXrrqt"
      },
      "source": [
        "4. Make a **pandas data frame**, with one column called \"Symbol\" containing the `all_symbols` array.\n"
      ]
    },
    {
      "cell_type": "code",
      "metadata": {
        "id": "K103ZvNVrrqu",
        "colab": {
          "base_uri": "https://localhost:8080/",
          "height": 424
        },
        "outputId": "766710ad-af80-42de-dada-304390c61863"
      },
      "source": [
        "import pandas as pd\n",
        "\n",
        "symbols_df = pd.DataFrame(all_symbols)\n",
        "\n",
        "symbols_df.rename(columns = {0:\"Symbol\"})"
      ],
      "execution_count": null,
      "outputs": [
        {
          "output_type": "execute_result",
          "data": {
            "text/plain": [
              "   Symbol\n",
              "0       a\n",
              "1       b\n",
              "2       c\n",
              "3       d\n",
              "4       e\n",
              "..    ...\n",
              "59      )\n",
              "60       \n",
              "61      -\n",
              "62      ;\n",
              "63      :\n",
              "\n",
              "[64 rows x 1 columns]"
            ],
            "text/html": [
              "\n",
              "  <div id=\"df-ded829c3-f582-4402-a960-ee72a7b87241\" class=\"colab-df-container\">\n",
              "    <div>\n",
              "<style scoped>\n",
              "    .dataframe tbody tr th:only-of-type {\n",
              "        vertical-align: middle;\n",
              "    }\n",
              "\n",
              "    .dataframe tbody tr th {\n",
              "        vertical-align: top;\n",
              "    }\n",
              "\n",
              "    .dataframe thead th {\n",
              "        text-align: right;\n",
              "    }\n",
              "</style>\n",
              "<table border=\"1\" class=\"dataframe\">\n",
              "  <thead>\n",
              "    <tr style=\"text-align: right;\">\n",
              "      <th></th>\n",
              "      <th>Symbol</th>\n",
              "    </tr>\n",
              "  </thead>\n",
              "  <tbody>\n",
              "    <tr>\n",
              "      <th>0</th>\n",
              "      <td>a</td>\n",
              "    </tr>\n",
              "    <tr>\n",
              "      <th>1</th>\n",
              "      <td>b</td>\n",
              "    </tr>\n",
              "    <tr>\n",
              "      <th>2</th>\n",
              "      <td>c</td>\n",
              "    </tr>\n",
              "    <tr>\n",
              "      <th>3</th>\n",
              "      <td>d</td>\n",
              "    </tr>\n",
              "    <tr>\n",
              "      <th>4</th>\n",
              "      <td>e</td>\n",
              "    </tr>\n",
              "    <tr>\n",
              "      <th>...</th>\n",
              "      <td>...</td>\n",
              "    </tr>\n",
              "    <tr>\n",
              "      <th>59</th>\n",
              "      <td>)</td>\n",
              "    </tr>\n",
              "    <tr>\n",
              "      <th>60</th>\n",
              "      <td></td>\n",
              "    </tr>\n",
              "    <tr>\n",
              "      <th>61</th>\n",
              "      <td>-</td>\n",
              "    </tr>\n",
              "    <tr>\n",
              "      <th>62</th>\n",
              "      <td>;</td>\n",
              "    </tr>\n",
              "    <tr>\n",
              "      <th>63</th>\n",
              "      <td>:</td>\n",
              "    </tr>\n",
              "  </tbody>\n",
              "</table>\n",
              "<p>64 rows × 1 columns</p>\n",
              "</div>\n",
              "    <div class=\"colab-df-buttons\">\n",
              "\n",
              "  <div class=\"colab-df-container\">\n",
              "    <button class=\"colab-df-convert\" onclick=\"convertToInteractive('df-ded829c3-f582-4402-a960-ee72a7b87241')\"\n",
              "            title=\"Convert this dataframe to an interactive table.\"\n",
              "            style=\"display:none;\">\n",
              "\n",
              "  <svg xmlns=\"http://www.w3.org/2000/svg\" height=\"24px\" viewBox=\"0 -960 960 960\">\n",
              "    <path d=\"M120-120v-720h720v720H120Zm60-500h600v-160H180v160Zm220 220h160v-160H400v160Zm0 220h160v-160H400v160ZM180-400h160v-160H180v160Zm440 0h160v-160H620v160ZM180-180h160v-160H180v160Zm440 0h160v-160H620v160Z\"/>\n",
              "  </svg>\n",
              "    </button>\n",
              "\n",
              "  <style>\n",
              "    .colab-df-container {\n",
              "      display:flex;\n",
              "      gap: 12px;\n",
              "    }\n",
              "\n",
              "    .colab-df-convert {\n",
              "      background-color: #E8F0FE;\n",
              "      border: none;\n",
              "      border-radius: 50%;\n",
              "      cursor: pointer;\n",
              "      display: none;\n",
              "      fill: #1967D2;\n",
              "      height: 32px;\n",
              "      padding: 0 0 0 0;\n",
              "      width: 32px;\n",
              "    }\n",
              "\n",
              "    .colab-df-convert:hover {\n",
              "      background-color: #E2EBFA;\n",
              "      box-shadow: 0px 1px 2px rgba(60, 64, 67, 0.3), 0px 1px 3px 1px rgba(60, 64, 67, 0.15);\n",
              "      fill: #174EA6;\n",
              "    }\n",
              "\n",
              "    .colab-df-buttons div {\n",
              "      margin-bottom: 4px;\n",
              "    }\n",
              "\n",
              "    [theme=dark] .colab-df-convert {\n",
              "      background-color: #3B4455;\n",
              "      fill: #D2E3FC;\n",
              "    }\n",
              "\n",
              "    [theme=dark] .colab-df-convert:hover {\n",
              "      background-color: #434B5C;\n",
              "      box-shadow: 0px 1px 3px 1px rgba(0, 0, 0, 0.15);\n",
              "      filter: drop-shadow(0px 1px 2px rgba(0, 0, 0, 0.3));\n",
              "      fill: #FFFFFF;\n",
              "    }\n",
              "  </style>\n",
              "\n",
              "    <script>\n",
              "      const buttonEl =\n",
              "        document.querySelector('#df-ded829c3-f582-4402-a960-ee72a7b87241 button.colab-df-convert');\n",
              "      buttonEl.style.display =\n",
              "        google.colab.kernel.accessAllowed ? 'block' : 'none';\n",
              "\n",
              "      async function convertToInteractive(key) {\n",
              "        const element = document.querySelector('#df-ded829c3-f582-4402-a960-ee72a7b87241');\n",
              "        const dataTable =\n",
              "          await google.colab.kernel.invokeFunction('convertToInteractive',\n",
              "                                                    [key], {});\n",
              "        if (!dataTable) return;\n",
              "\n",
              "        const docLinkHtml = 'Like what you see? Visit the ' +\n",
              "          '<a target=\"_blank\" href=https://colab.research.google.com/notebooks/data_table.ipynb>data table notebook</a>'\n",
              "          + ' to learn more about interactive tables.';\n",
              "        element.innerHTML = '';\n",
              "        dataTable['output_type'] = 'display_data';\n",
              "        await google.colab.output.renderOutput(dataTable, element);\n",
              "        const docLink = document.createElement('div');\n",
              "        docLink.innerHTML = docLinkHtml;\n",
              "        element.appendChild(docLink);\n",
              "      }\n",
              "    </script>\n",
              "  </div>\n",
              "\n",
              "\n",
              "    <div id=\"df-5068009c-859a-4504-a6dc-9d1d14716a02\">\n",
              "      <button class=\"colab-df-quickchart\" onclick=\"quickchart('df-5068009c-859a-4504-a6dc-9d1d14716a02')\"\n",
              "                title=\"Suggest charts\"\n",
              "                style=\"display:none;\">\n",
              "\n",
              "<svg xmlns=\"http://www.w3.org/2000/svg\" height=\"24px\"viewBox=\"0 0 24 24\"\n",
              "     width=\"24px\">\n",
              "    <g>\n",
              "        <path d=\"M19 3H5c-1.1 0-2 .9-2 2v14c0 1.1.9 2 2 2h14c1.1 0 2-.9 2-2V5c0-1.1-.9-2-2-2zM9 17H7v-7h2v7zm4 0h-2V7h2v10zm4 0h-2v-4h2v4z\"/>\n",
              "    </g>\n",
              "</svg>\n",
              "      </button>\n",
              "\n",
              "<style>\n",
              "  .colab-df-quickchart {\n",
              "      --bg-color: #E8F0FE;\n",
              "      --fill-color: #1967D2;\n",
              "      --hover-bg-color: #E2EBFA;\n",
              "      --hover-fill-color: #174EA6;\n",
              "      --disabled-fill-color: #AAA;\n",
              "      --disabled-bg-color: #DDD;\n",
              "  }\n",
              "\n",
              "  [theme=dark] .colab-df-quickchart {\n",
              "      --bg-color: #3B4455;\n",
              "      --fill-color: #D2E3FC;\n",
              "      --hover-bg-color: #434B5C;\n",
              "      --hover-fill-color: #FFFFFF;\n",
              "      --disabled-bg-color: #3B4455;\n",
              "      --disabled-fill-color: #666;\n",
              "  }\n",
              "\n",
              "  .colab-df-quickchart {\n",
              "    background-color: var(--bg-color);\n",
              "    border: none;\n",
              "    border-radius: 50%;\n",
              "    cursor: pointer;\n",
              "    display: none;\n",
              "    fill: var(--fill-color);\n",
              "    height: 32px;\n",
              "    padding: 0;\n",
              "    width: 32px;\n",
              "  }\n",
              "\n",
              "  .colab-df-quickchart:hover {\n",
              "    background-color: var(--hover-bg-color);\n",
              "    box-shadow: 0 1px 2px rgba(60, 64, 67, 0.3), 0 1px 3px 1px rgba(60, 64, 67, 0.15);\n",
              "    fill: var(--button-hover-fill-color);\n",
              "  }\n",
              "\n",
              "  .colab-df-quickchart-complete:disabled,\n",
              "  .colab-df-quickchart-complete:disabled:hover {\n",
              "    background-color: var(--disabled-bg-color);\n",
              "    fill: var(--disabled-fill-color);\n",
              "    box-shadow: none;\n",
              "  }\n",
              "\n",
              "  .colab-df-spinner {\n",
              "    border: 2px solid var(--fill-color);\n",
              "    border-color: transparent;\n",
              "    border-bottom-color: var(--fill-color);\n",
              "    animation:\n",
              "      spin 1s steps(1) infinite;\n",
              "  }\n",
              "\n",
              "  @keyframes spin {\n",
              "    0% {\n",
              "      border-color: transparent;\n",
              "      border-bottom-color: var(--fill-color);\n",
              "      border-left-color: var(--fill-color);\n",
              "    }\n",
              "    20% {\n",
              "      border-color: transparent;\n",
              "      border-left-color: var(--fill-color);\n",
              "      border-top-color: var(--fill-color);\n",
              "    }\n",
              "    30% {\n",
              "      border-color: transparent;\n",
              "      border-left-color: var(--fill-color);\n",
              "      border-top-color: var(--fill-color);\n",
              "      border-right-color: var(--fill-color);\n",
              "    }\n",
              "    40% {\n",
              "      border-color: transparent;\n",
              "      border-right-color: var(--fill-color);\n",
              "      border-top-color: var(--fill-color);\n",
              "    }\n",
              "    60% {\n",
              "      border-color: transparent;\n",
              "      border-right-color: var(--fill-color);\n",
              "    }\n",
              "    80% {\n",
              "      border-color: transparent;\n",
              "      border-right-color: var(--fill-color);\n",
              "      border-bottom-color: var(--fill-color);\n",
              "    }\n",
              "    90% {\n",
              "      border-color: transparent;\n",
              "      border-bottom-color: var(--fill-color);\n",
              "    }\n",
              "  }\n",
              "</style>\n",
              "\n",
              "      <script>\n",
              "        async function quickchart(key) {\n",
              "          const quickchartButtonEl =\n",
              "            document.querySelector('#' + key + ' button');\n",
              "          quickchartButtonEl.disabled = true;  // To prevent multiple clicks.\n",
              "          quickchartButtonEl.classList.add('colab-df-spinner');\n",
              "          try {\n",
              "            const charts = await google.colab.kernel.invokeFunction(\n",
              "                'suggestCharts', [key], {});\n",
              "          } catch (error) {\n",
              "            console.error('Error during call to suggestCharts:', error);\n",
              "          }\n",
              "          quickchartButtonEl.classList.remove('colab-df-spinner');\n",
              "          quickchartButtonEl.classList.add('colab-df-quickchart-complete');\n",
              "        }\n",
              "        (() => {\n",
              "          let quickchartButtonEl =\n",
              "            document.querySelector('#df-5068009c-859a-4504-a6dc-9d1d14716a02 button');\n",
              "          quickchartButtonEl.style.display =\n",
              "            google.colab.kernel.accessAllowed ? 'block' : 'none';\n",
              "        })();\n",
              "      </script>\n",
              "    </div>\n",
              "\n",
              "    </div>\n",
              "  </div>\n"
            ],
            "application/vnd.google.colaboratory.intrinsic+json": {
              "type": "dataframe",
              "summary": "{\n  \"name\": \"symbols_df\",\n  \"rows\": 64,\n  \"fields\": [\n    {\n      \"column\": \"Symbol\",\n      \"properties\": {\n        \"dtype\": \"string\",\n        \"num_unique_values\": 64,\n        \"samples\": [\n          \".\",\n          \"(\",\n          \"a\"\n        ],\n        \"semantic_type\": \"\",\n        \"description\": \"\"\n      }\n    }\n  ]\n}"
            }
          },
          "metadata": {},
          "execution_count": 23
        }
      ]
    },
    {
      "cell_type": "markdown",
      "metadata": {
        "id": "L-m2LLyHrrqu"
      },
      "source": [
        "## Part Two: Decoding the secret message.\n"
      ]
    },
    {
      "cell_type": "code",
      "metadata": {
        "id": "iP7Zj5hPrrqu"
      },
      "source": [
        "top_secret = pd.read_csv(\"https://www.dropbox.com/s/k72h1zewk4gtqep/PA_Secret_Code?dl=1\", header=None)\n",
        "\n",
        "top_secret = top_secret[0].to_numpy()"
      ],
      "execution_count": null,
      "outputs": []
    },
    {
      "cell_type": "markdown",
      "metadata": {
        "id": "T3ui38Z9rrqu"
      },
      "source": [
        "### Hint\n",
        "\n",
        "Recall that basic math operations are **vectorized**.  This means you don't have to repeat the process for each item in a list; you can apply the math to the whole thing at once.\n",
        "\n",
        "### Instructions\n",
        "\n",
        "By altering this top secret set of numbers, you will be able to create a message.  Write your own code to complete the steps below.\n",
        "\n",
        "1. Add 14 to every number.\n",
        "2. Multiply every number by 18, then subtract 257.\n",
        "3. Exponentiate every number.  (That is, do e^[number].  You may have to Google how to do this!)\n",
        "4. Square every number.\n",
        "\n",
        "**Checkpoint:** Headquarters has informed you that at this stage of decoding, there should be 352 numbers in the secret message that are below 17.  Write code to check if this is true for your data.\n",
        "\n",
        "\n",
        "5. Turn your one-dimensional array of numbers into a two-dimensional array (matrix) with 5 columns. This conversion should be **column-wise**; that is, the first several elements of the array should all end up in the first **column** of your matrix.\n",
        "6. Separately from your top secret numbers, create an array of all the even numbers between 1 and 382. Name it \"evens\". That is, \"evens\" should contain 2, 4, 6, 8 ..., 382.\n",
        "7. Subtract the \"evens\" vector from the first column of your secret message matrix.\n",
        "8. Subtract 100 from all numbers in the 18-24th rows of the 3rd column.\n",
        "9. Multiply all numbers in the 4th and 5th column by 2.\n",
        "10. Turn your matrix back into a one dimensional array. Again this should be **column-wise**, so that the first column of the matrix becomes the first elements of the array.\n",
        "\n",
        "\n",
        "**Checkpoint:** Headquarters has informed you that at this stage of decoding, all numbers in indices 500 and beyond are below 100.  Write code to check if your numbers fulfill this requirement.\n",
        "\n",
        "11. Take the square root of all numbers in indices 37 to 464.\n",
        "12. Round all numbers to the nearest whole number.\n",
        "13. Replace all instances of the number 39 with 20.\n",
        "\n",
        "**Checkpoint:** Headquarters has informed you that your final message should have 344 even numbers.  Write code to check if your numbers fulfill this requirement.\n",
        "\n",
        "## Part 3: The secret message!\n",
        "\n",
        "Run the following to discover the final message!  Google the first line of this message, if you do not recognize it, to see what it is.\n"
      ]
    },
    {
      "cell_type": "code",
      "source": [
        "top_secret = top_secret + 14\n",
        "top_secret = (top_secret * 18) - 257\n",
        "top_secret = np.exp(top_secret)\n",
        "top_secret = np.square(top_secret)"
      ],
      "metadata": {
        "collapsed": true,
        "id": "DpZtsQthj-Ba"
      },
      "execution_count": null,
      "outputs": []
    },
    {
      "cell_type": "code",
      "source": [
        "#Checkpoint 1\n",
        "np.sum(top_secret < 17)"
      ],
      "metadata": {
        "colab": {
          "base_uri": "https://localhost:8080/"
        },
        "id": "zJFpAnQ_lSZB",
        "outputId": "d1e44690-4466-4b65-db1a-d939d3b3a036"
      },
      "execution_count": null,
      "outputs": [
        {
          "output_type": "execute_result",
          "data": {
            "text/plain": [
              "np.int64(352)"
            ]
          },
          "metadata": {},
          "execution_count": 90
        }
      ]
    },
    {
      "cell_type": "code",
      "source": [
        "top_secret_matrix = top_secret.reshape(-1, 5, order='F')\n",
        "display(top_secret_matrix)"
      ],
      "metadata": {
        "colab": {
          "base_uri": "https://localhost:8080/",
          "height": 1000
        },
        "id": "XO_Xw_6tovJ2",
        "outputId": "bb16a482-7be4-4b6e-8253-bb36b7d77735"
      },
      "execution_count": null,
      "outputs": [
        {
          "output_type": "display_data",
          "data": {
            "text/plain": [
              "array([[5.900e+01, 1.440e+02, 3.610e+02, 9.000e+00, 2.050e+01],\n",
              "       [5.000e+01, 1.000e+00, 1.521e+03, 7.500e+00, 3.050e+01],\n",
              "       [2.900e+01, 5.290e+02, 2.250e+02, 1.050e+01, 3.000e+00],\n",
              "       [9.000e+00, 3.610e+02, 2.250e+02, 3.500e+00, 9.000e+00],\n",
              "       [2.900e+01, 3.721e+03, 1.600e+01, 4.000e+00, 5.000e-01],\n",
              "       [7.300e+01, 1.521e+03, 3.721e+03, 3.050e+01, 1.000e+00],\n",
              "       [1.600e+01, 6.400e+01, 1.000e+00, 5.000e-01, 5.000e+00],\n",
              "       [3.400e+01, 1.000e+00, 5.290e+02, 7.000e+00, 7.500e+00],\n",
              "       [2.700e+01, 1.521e+03, 6.400e+01, 2.000e+00, 1.050e+01],\n",
              "       [3.200e+01, 3.721e+03, 8.100e+01, 3.050e+01, 9.500e+00],\n",
              "       [3.400e+01, 9.000e+00, 1.440e+02, 1.950e+01, 3.050e+01],\n",
              "       [3.300e+01, 1.000e+00, 2.500e+01, 4.000e+00, 2.000e+00],\n",
              "       [3.300e+01, 1.521e+03, 3.721e+03, 9.000e+00, 5.000e-01],\n",
              "       [8.200e+01, 9.000e+00, 8.100e+01, 7.500e+00, 1.250e+01],\n",
              "       [9.100e+01, 6.400e+01, 1.960e+02, 1.050e+01, 2.750e+01],\n",
              "       [3.300e+01, 3.025e+03, 3.721e+03, 3.500e+00, 3.050e+01],\n",
              "       [4.800e+01, 3.721e+03, 1.521e+03, 4.000e+00, 1.450e+01],\n",
              "       [4.000e+01, 7.840e+02, 1.640e+02, 3.050e+01, 5.000e-01],\n",
              "       [9.900e+01, 2.500e+01, 3.250e+02, 3.050e+01, 6.000e+00],\n",
              "       [7.900e+01, 5.290e+02, 5.410e+02, 3.050e+01, 6.000e+00],\n",
              "       [5.000e+01, 1.000e+00, 1.490e+02, 2.300e+01, 7.500e+00],\n",
              "       [4.900e+01, 3.240e+02, 1.640e+02, 4.000e+00, 7.500e+00],\n",
              "       [1.070e+02, 2.500e+01, 1.621e+03, 2.500e+00, 4.000e+00],\n",
              "       [6.700e+01, 3.721e+03, 2.909e+03, 3.050e+01, 2.750e+01],\n",
              "       [6.200e+01, 1.521e+03, 3.721e+03, 1.100e+01, 3.050e+01],\n",
              "       [6.100e+01, 6.400e+01, 7.290e+02, 7.500e+00, 1.450e+01],\n",
              "       [9.300e+01, 2.500e+01, 1.960e+02, 9.000e+00, 5.000e-01],\n",
              "       [6.400e+01, 3.721e+03, 1.600e+01, 8.000e+00, 6.000e+00],\n",
              "       [8.300e+01, 1.296e+03, 2.916e+03, 5.000e-01, 6.000e+00],\n",
              "       [1.210e+02, 4.410e+02, 3.721e+03, 6.000e+00, 5.000e-01],\n",
              "       [1.010e+02, 4.000e+00, 1.000e+00, 3.050e+01, 1.250e+01],\n",
              "       [7.900e+01, 1.000e+02, 3.610e+02, 1.000e+00, 2.750e+01],\n",
              "       [8.800e+01, 4.410e+02, 3.721e+03, 6.000e+00, 2.900e+01],\n",
              "       [7.300e+01, 4.000e+00, 8.100e+01, 5.000e-01, 3.050e+01],\n",
              "       [8.900e+01, 3.721e+03, 1.960e+02, 2.000e+00, 3.050e+01],\n",
              "       [1.330e+02, 4.000e+00, 3.721e+03, 2.500e+00, 3.050e+01],\n",
              "       [1.350e+02, 8.100e+01, 4.410e+02, 3.050e+01, 1.700e+01],\n",
              "       [3.797e+03, 3.240e+02, 3.600e+01, 1.150e+01, 2.500e+00],\n",
              "       [9.780e+02, 1.600e+01, 3.600e+01, 2.500e+00, 3.050e+01],\n",
              "       [1.610e+02, 2.916e+03, 8.100e+01, 7.000e+00, 1.500e+00],\n",
              "       [9.800e+01, 3.721e+03, 3.610e+02, 1.950e+01, 4.000e+00],\n",
              "       [3.805e+03, 1.000e+00, 6.400e+01, 3.050e+01, 7.500e+00],\n",
              "       [1.350e+02, 1.960e+02, 3.721e+03, 9.500e+00, 9.000e+00],\n",
              "       [7.130e+02, 1.600e+01, 1.521e+03, 7.000e+00, 1.950e+01],\n",
              "       [4.140e+02, 3.721e+03, 6.400e+01, 4.500e+00, 6.000e+00],\n",
              "       [1.170e+02, 3.610e+02, 2.250e+02, 1.500e+00, 2.500e+00],\n",
              "       [3.815e+03, 6.400e+01, 4.410e+02, 5.500e+00, 2.000e+00],\n",
              "       [9.700e+01, 4.410e+02, 4.900e+01, 2.500e+00, 3.050e+01],\n",
              "       [2.940e+02, 1.960e+02, 6.400e+01, 9.000e+00, 4.500e+00],\n",
              "       [1.160e+02, 3.721e+03, 1.521e+03, 3.100e+01, 7.000e+00],\n",
              "       [3.823e+03, 3.721e+03, 3.721e+03, 9.500e+00, 3.050e+01],\n",
              "       [1.530e+02, 3.721e+03, 6.400e+01, 7.000e+00, 4.000e+00],\n",
              "       [1.870e+02, 2.116e+03, 2.500e+01, 5.000e-01, 4.500e+00],\n",
              "       [2.770e+02, 6.400e+01, 3.721e+03, 1.500e+00, 9.500e+00],\n",
              "       [1.140e+02, 2.500e+01, 3.610e+02, 5.500e+00, 3.050e+01],\n",
              "       [2.560e+02, 3.721e+03, 1.521e+03, 2.750e+01, 5.000e+00],\n",
              "       [1.390e+02, 3.600e+01, 2.250e+02, 3.050e+01, 7.500e+00],\n",
              "       [3.837e+03, 3.240e+02, 2.250e+02, 1.700e+01, 1.250e+01],\n",
              "       [1.990e+02, 4.410e+02, 1.600e+01, 2.500e+00, 2.650e+01],\n",
              "       [3.160e+02, 1.690e+02, 2.916e+03, 3.050e+01, 3.050e+01],\n",
              "       [3.843e+03, 8.100e+01, 3.721e+03, 6.000e+00, 2.850e+01],\n",
              "       [1.645e+03, 2.250e+02, 3.721e+03, 2.500e+00, 2.300e+01],\n",
              "       [1.900e+02, 4.410e+02, 3.721e+03, 3.000e+00, 1.150e+01],\n",
              "       [1.530e+02, 3.610e+02, 2.116e+03, 1.950e+01, 5.000e-01],\n",
              "       [3.851e+03, 3.721e+03, 6.400e+01, 3.050e+01, 9.500e+00],\n",
              "       [6.610e+02, 7.840e+02, 2.500e+01, 4.500e+00, 3.050e+01],\n",
              "       [1.350e+02, 1.000e+00, 3.721e+03, 1.950e+01, 1.000e+00],\n",
              "       [1.400e+02, 1.960e+02, 1.296e+03, 3.050e+01, 9.000e+00],\n",
              "       [1.630e+02, 1.600e+01, 1.000e+00, 2.000e+00, 4.500e+00],\n",
              "       [4.236e+03, 2.500e+01, 4.000e+00, 2.500e+00, 6.000e+00],\n",
              "       [3.863e+03, 3.240e+02, 4.000e+00, 5.000e-01, 6.000e+00],\n",
              "       [8.730e+02, 3.610e+02, 2.500e+01, 2.000e+00, 4.500e+00],\n",
              "       [2.900e+02, 1.960e+02, 3.240e+02, 2.700e+01, 3.500e+00],\n",
              "       [2.920e+02, 1.000e+00, 5.290e+02, 3.050e+01, 2.700e+01],\n",
              "       [3.871e+03, 1.521e+03, 2.250e+02, 5.000e-01, 3.050e+01],\n",
              "       [3.210e+02, 9.000e+00, 9.000e+00, 7.000e+00, 5.000e-01],\n",
              "       [2.350e+02, 6.400e+01, 1.210e+02, 2.000e+00, 7.000e+00],\n",
              "       [3.250e+02, 3.025e+03, 2.916e+03, 3.050e+01, 2.000e+00],\n",
              "       [5.190e+02, 3.364e+03, 3.721e+03, 1.150e+01, 3.050e+01],\n",
              "       [7.850e+02, 3.721e+03, 5.290e+02, 4.500e+00, 1.950e+01],\n",
              "       [3.883e+03, 1.156e+03, 8.100e+01, 1.950e+01, 4.000e+00],\n",
              "       [6.930e+02, 2.500e+01, 1.521e+03, 4.000e+00, 2.500e+00],\n",
              "       [1.910e+02, 3.721e+03, 6.400e+01, 3.050e+01, 3.050e+01],\n",
              "       [4.920e+02, 1.521e+03, 6.100e+01, 4.500e+00, 9.500e+00],\n",
              "       [1.950e+02, 2.250e+02, 5.000e+00, 1.950e+01, 6.000e+00],\n",
              "       [3.893e+03, 2.250e+02, 2.500e+01, 9.500e+00, 4.500e+00],\n",
              "       [1.695e+03, 1.210e+02, 5.000e+00, 3.050e+01, 1.950e+01],\n",
              "       [2.400e+02, 3.721e+03, 1.900e+01, 4.000e+00, 4.000e+00],\n",
              "       [2.030e+02, 6.400e+01, 6.100e+01, 2.500e+00, 1.250e+01],\n",
              "       [3.901e+03, 8.100e+01, 1.500e+01, 5.000e-01, 3.050e+01],\n",
              "       [1.860e+02, 3.610e+02, 6.000e+00, 2.000e+00, 1.950e+01],\n",
              "       [4.090e+02, 3.721e+03, 6.100e+01, 3.050e+01, 7.500e+00],\n",
              "       [5.100e+02, 4.840e+02, 6.000e+00, 3.050e+01, 1.100e+01],\n",
              "       [4.130e+02, 2.250e+02, 1.200e+01, 3.050e+01, 2.500e+00],\n",
              "       [2.390e+02, 3.240e+02, 1.000e+00, 1.700e+01, 9.500e+00],\n",
              "       [4.170e+02, 2.560e+02, 1.300e+01, 2.500e+00, 3.050e+01],\n",
              "       [6.780e+02, 1.000e+00, 5.000e+00, 3.050e+01, 3.050e+01],\n",
              "       [2.210e+02, 1.440e+02, 5.400e+01, 1.150e+01, 3.050e+01],\n",
              "       [5.590e+02, 3.721e+03, 6.100e+01, 2.500e+00, 1.500e+01],\n",
              "       [3.116e+03, 3.610e+02, 2.900e+01, 7.000e+00, 4.500e+00],\n",
              "       [3.923e+03, 5.290e+02, 1.000e+00, 1.950e+01, 2.000e+00],\n",
              "       [3.925e+03, 2.250e+02, 1.300e+01, 3.050e+01, 3.050e+01],\n",
              "       [3.927e+03, 3.240e+02, 5.000e+00, 3.500e+00, 3.500e+00],\n",
              "       [9.370e+02, 1.600e+01, 6.100e+01, 5.000e-01, 1.250e+01],\n",
              "       [4.060e+02, 3.721e+03, 2.300e+01, 6.000e+00, 9.000e+00],\n",
              "       [2.280e+02, 8.100e+01, 8.000e+00, 1.050e+01, 2.500e+00],\n",
              "       [3.935e+03, 1.960e+02, 9.000e+00, 6.500e+00, 3.050e+01],\n",
              "       [1.737e+03, 3.721e+03, 6.000e+00, 8.000e+00, 5.000e-01],\n",
              "       [2.820e+02, 6.400e+01, 6.000e+00, 4.000e+00, 7.000e+00],\n",
              "       [2.450e+02, 1.000e+00, 1.200e+01, 4.500e+00, 2.000e+00],\n",
              "       [3.943e+03, 1.960e+02, 9.000e+00, 7.000e+00, 3.050e+01],\n",
              "       [3.930e+02, 1.600e+01, 1.400e+01, 3.500e+00, 3.500e+00],\n",
              "       [4.510e+02, 3.969e+03, 7.000e+00, 3.050e+01, 4.500e+00],\n",
              "       [3.970e+02, 3.721e+03, 6.100e+01, 1.000e+00, 6.500e+00],\n",
              "       [2.550e+02, 3.721e+03, 3.900e+01, 5.000e-01, 1.000e+00],\n",
              "       [3.953e+03, 3.721e+03, 8.000e+00, 1.500e+00, 6.000e+00],\n",
              "       [5.580e+02, 1.444e+03, 1.800e+01, 5.500e+00, 2.500e+00],\n",
              "       [2.370e+02, 2.250e+02, 1.500e+01, 2.650e+01, 3.050e+01],\n",
              "       [1.759e+03, 1.960e+02, 2.100e+01, 3.050e+01, 4.500e+00],\n",
              "       [3.040e+02, 4.900e+01, 7.000e+00, 2.900e+01, 7.000e+00],\n",
              "       [6.030e+02, 3.721e+03, 8.000e+00, 1.350e+01, 3.050e+01],\n",
              "       [3.965e+03, 1.521e+03, 6.100e+01, 7.000e+00, 1.950e+01],\n",
              "       [4.710e+02, 8.100e+01, 3.900e+01, 2.000e+00, 4.000e+00],\n",
              "       [6.890e+02, 1.690e+02, 8.000e+00, 3.050e+01, 2.500e+00],\n",
              "       [1.771e+03, 2.500e+01, 5.000e+00, 4.000e+00, 3.050e+01],\n",
              "       [3.010e+02, 3.721e+03, 6.100e+01, 5.000e-01, 1.150e+01],\n",
              "       [5.780e+02, 1.521e+03, 3.900e+01, 9.500e+00, 5.000e-01],\n",
              "       [2.570e+02, 6.400e+01, 2.100e+01, 1.950e+01, 1.000e+00],\n",
              "       [2.620e+02, 2.500e+01, 1.200e+01, 3.050e+01, 2.500e+00],\n",
              "       [2.850e+02, 3.721e+03, 7.000e+00, 1.950e+01, 3.200e+01],\n",
              "       [3.071e+03, 1.690e+02, 5.000e+00, 4.000e+00, 3.050e+01],\n",
              "       [3.985e+03, 1.000e+00, 2.500e+01, 7.500e+00, 1.350e+01],\n",
              "       [3.630e+03, 1.960e+02, 6.100e+01, 1.050e+01, 6.000e+00],\n",
              "       [1.052e+03, 5.760e+02, 2.300e+01, 3.050e+01, 6.000e+00],\n",
              "       [2.950e+02, 2.250e+02, 1.500e+01, 9.500e+00, 3.050e+01],\n",
              "       [8.010e+02, 1.690e+02, 1.500e+01, 6.000e+00, 6.500e+00],\n",
              "       [2.750e+02, 2.500e+01, 4.000e+00, 5.000e-01, 4.500e+00],\n",
              "       [6.000e+02, 3.721e+03, 5.400e+01, 4.500e+00, 6.500e+00],\n",
              "       [3.030e+02, 3.600e+01, 6.100e+01, 7.000e+00, 9.500e+00],\n",
              "       [4.001e+03, 2.250e+02, 6.100e+01, 3.050e+01, 1.250e+01],\n",
              "       [1.803e+03, 2.500e+01, 6.100e+01, 1.950e+01, 3.050e+01],\n",
              "       [3.480e+02, 3.721e+03, 2.700e+01, 4.000e+00, 1.150e+01],\n",
              "       [3.110e+02, 6.400e+01, 1.400e+01, 2.500e+00, 2.500e+00],\n",
              "       [4.009e+03, 2.500e+01, 4.000e+00, 3.050e+01, 9.000e+00],\n",
              "       [1.586e+03, 3.721e+03, 6.100e+01, 1.800e+01, 2.500e+00],\n",
              "       [2.930e+02, 3.610e+02, 2.000e+00, 5.000e-01, 3.050e+01],\n",
              "       [2.980e+02, 2.250e+02, 2.100e+01, 1.000e+00, 1.950e+01],\n",
              "       [3.000e+02, 4.410e+02, 1.800e+01, 1.000e+00, 4.000e+00],\n",
              "       [3.230e+02, 4.900e+01, 2.000e+00, 2.500e+00, 2.500e+00],\n",
              "       [6.240e+02, 6.400e+01, 1.200e+01, 9.000e+00, 3.050e+01],\n",
              "       [8.310e+02, 1.521e+03, 5.000e+00, 1.150e+01, 1.000e+00],\n",
              "       [5.290e+02, 3.844e+03, 4.000e+00, 7.500e+00, 7.500e+00],\n",
              "       [3.150e+02, 3.721e+03, 6.100e+01, 1.500e+00, 9.000e+00],\n",
              "       [4.290e+02, 2.025e+03, 1.000e+00, 5.500e+00, 7.500e+00],\n",
              "       [3.226e+03, 2.250e+02, 1.900e+01, 2.800e+01, 3.500e+00],\n",
              "       [4.033e+03, 3.721e+03, 6.100e+01, 3.050e+01, 7.500e+00],\n",
              "       [4.830e+02, 3.240e+02, 9.000e+00, 3.050e+01, 1.100e+01],\n",
              "       [9.410e+02, 2.500e+01, 3.900e+01, 3.050e+01, 2.500e+00],\n",
              "       [4.039e+03, 3.610e+02, 6.100e+01, 1.450e+01, 9.500e+00],\n",
              "       [6.810e+02, 1.521e+03, 3.000e+00, 7.500e+00, 2.700e+01],\n",
              "       [5.470e+02, 2.500e+01, 1.000e+00, 6.500e+00, 3.050e+01],\n",
              "       [5.200e+02, 1.600e+01, 1.300e+01, 2.500e+00, 3.050e+01],\n",
              "       [3.351e+03, 3.721e+03, 5.000e+00, 3.050e+01, 3.050e+01],\n",
              "       [4.049e+03, 6.400e+01, 5.500e+01, 1.950e+01, 1.350e+01],\n",
              "       [4.051e+03, 2.500e+01, 6.100e+01, 7.500e+00, 7.000e+00],\n",
              "       [4.053e+03, 3.721e+03, 4.100e+01, 3.050e+01, 2.000e+00],\n",
              "       [2.450e+03, 4.000e+00, 1.400e+01, 6.500e+00, 3.050e+01],\n",
              "       [4.000e+02, 6.250e+02, 5.000e+00, 1.250e+01, 1.950e+01],\n",
              "       [3.630e+02, 3.721e+03, 5.400e+01, 3.050e+01, 4.000e+00],\n",
              "       [4.061e+03, 1.521e+03, 6.100e+01, 5.000e-01, 2.500e+00],\n",
              "       [4.420e+02, 6.400e+01, 3.900e+01, 9.000e+00, 3.050e+01],\n",
              "       [3.450e+02, 2.500e+01, 2.300e+01, 6.500e+00, 6.500e+00],\n",
              "       [8.750e+02, 3.721e+03, 1.500e+01, 9.500e+00, 7.500e+00],\n",
              "       [7.090e+02, 2.116e+03, 5.500e+01, 2.700e+01, 6.500e+00],\n",
              "       [4.071e+03, 4.410e+02, 6.100e+01, 3.050e+01, 2.500e+00],\n",
              "       [1.873e+03, 1.690e+02, 4.100e+01, 6.500e+00, 3.050e+01],\n",
              "       [4.180e+02, 1.521e+03, 1.400e+01, 1.250e+01, 9.000e+00],\n",
              "       [3.570e+02, 4.410e+02, 5.000e+00, 3.050e+01, 5.000e-01],\n",
              "       [1.879e+03, 1.690e+02, 5.400e+01, 1.000e+00, 1.950e+01],\n",
              "       [4.081e+03, 3.721e+03, 6.100e+01, 2.500e+00, 4.000e+00],\n",
              "       [3.660e+02, 1.521e+03, 3.900e+01, 5.000e-01, 9.500e+00],\n",
              "       [4.450e+02, 3.240e+02, 2.300e+01, 6.500e+00, 3.050e+01],\n",
              "       [1.887e+03, 2.500e+01, 1.500e+01, 4.500e+00, 7.500e+00],\n",
              "       [3.930e+02, 2.500e+01, 5.500e+01, 9.500e+00, 1.050e+01],\n",
              "       [3.286e+03, 3.721e+03, 6.100e+01, 4.000e+00, 1.950e+01],\n",
              "       [4.093e+03, 3.721e+03, 2.700e+01, 3.050e+01, 3.500e+00],\n",
              "       [1.895e+03, 3.721e+03, 1.400e+01, 1.000e+00, 9.000e+00],\n",
              "       [4.400e+02, 7.290e+02, 4.000e+00, 7.500e+00, 5.000e-01],\n",
              "       [4.030e+02, 1.960e+02, 6.100e+01, 1.250e+01, 1.000e+00],\n",
              "       [4.101e+03, 1.600e+01, 3.900e+01, 2.750e+01, 2.500e+00],\n",
              "       [3.910e+02, 3.721e+03, 8.000e+00, 3.050e+01, 2.650e+01]])"
            ]
          },
          "metadata": {}
        }
      ]
    },
    {
      "cell_type": "code",
      "source": [
        "#Separately from your top secret numbers, create an array of all the even numbers between 1 and 382. Name it \"evens\". That is, \"evens\" should contain 2, 4, 6, 8 ..., 382.\n",
        "evens = np.arange(2, 383, 2)"
      ],
      "metadata": {
        "id": "98_ZHCJKpPlP"
      },
      "execution_count": null,
      "outputs": []
    },
    {
      "cell_type": "code",
      "source": [
        "#Subtract the \"evens\" vector from the first column of your secret message matrix.\n",
        "top_secret_matrix[:, 0] = top_secret_matrix[:, 0] - evens"
      ],
      "metadata": {
        "id": "GXN_Fa1Pplc8"
      },
      "execution_count": null,
      "outputs": []
    },
    {
      "cell_type": "code",
      "source": [
        "#Subtract 100 from all numbers in the 18-24th rows of the 3rd column.\n",
        "top_secret_matrix[17:24, 2] = top_secret_matrix[17:24, 2] - 100"
      ],
      "metadata": {
        "id": "-zpUfJhAp0m7"
      },
      "execution_count": null,
      "outputs": []
    },
    {
      "cell_type": "code",
      "source": [
        "#Multiply all numbers in the 4th and 5th column by 2.\n",
        "top_secret_matrix[:, 3] = top_secret_matrix[:, 3] * 2\n",
        "top_secret_matrix[:, 4] = top_secret_matrix[:, 4] * 2"
      ],
      "metadata": {
        "id": "dAdWHoc1qDTa"
      },
      "execution_count": null,
      "outputs": []
    },
    {
      "cell_type": "code",
      "source": [
        "#Turn your matrix back into a one dimensional array. Again this should be column-wise, so that the first column of the matrix becomes the first elements of the array.\n",
        "top_secret = top_secret_matrix.reshape(-1, order=\"F\")"
      ],
      "metadata": {
        "id": "oa_kMumvqUnX"
      },
      "execution_count": null,
      "outputs": []
    },
    {
      "cell_type": "code",
      "source": [
        "#Checkpoint 2\n",
        "np.all(top_secret[500:] < 100)"
      ],
      "metadata": {
        "colab": {
          "base_uri": "https://localhost:8080/"
        },
        "id": "YLJDfaQhq1OQ",
        "outputId": "3547ccb8-9eda-47b8-f0c7-35de1500d02b"
      },
      "execution_count": null,
      "outputs": [
        {
          "output_type": "execute_result",
          "data": {
            "text/plain": [
              "np.True_"
            ]
          },
          "metadata": {},
          "execution_count": 97
        }
      ]
    },
    {
      "cell_type": "code",
      "source": [
        "#Take the square root of all numbers in indices 37 to 464.\n",
        "top_secret[37:464] = np.sqrt(top_secret[37:464])"
      ],
      "metadata": {
        "id": "p2cZRf_0q7fs"
      },
      "execution_count": null,
      "outputs": []
    },
    {
      "cell_type": "code",
      "source": [
        "#Round all numbers to the nearest whole number.\n",
        "top_secret = np.round(top_secret)"
      ],
      "metadata": {
        "id": "aRcmJjNBrIUo"
      },
      "execution_count": null,
      "outputs": []
    },
    {
      "cell_type": "code",
      "source": [
        "#Replace all instances of the number 39 with 20.\n",
        "top_secret[top_secret == 39] = 20"
      ],
      "metadata": {
        "id": "0-fHC0ErrOsn"
      },
      "execution_count": null,
      "outputs": []
    },
    {
      "cell_type": "code",
      "source": [
        "#Checkpoint 3\n",
        "np.sum(top_secret % 2 == 0)"
      ],
      "metadata": {
        "colab": {
          "base_uri": "https://localhost:8080/"
        },
        "id": "CXgc2Hq_rVFO",
        "outputId": "5209ea59-228f-4896-e7b8-41e9f6904feb"
      },
      "execution_count": null,
      "outputs": [
        {
          "output_type": "execute_result",
          "data": {
            "text/plain": [
              "np.int64(344)"
            ]
          },
          "metadata": {},
          "execution_count": 101
        }
      ]
    },
    {
      "cell_type": "code",
      "metadata": {
        "id": "v_bB8VNvrrqu",
        "colab": {
          "base_uri": "https://localhost:8080/",
          "height": 143
        },
        "outputId": "9edba06c-ad8f-4a1a-c078-90cc4abf4613"
      },
      "source": [
        "''.join(symbols_df.iloc[top_secret - 1, 0].astype(str))"
      ],
      "execution_count": null,
      "outputs": [
        {
          "output_type": "execute_result",
          "data": {
            "text/plain": [
              "'\\'Twas brillig, and the slithy toves   Did gyre and gimble in the wabe: All mimsy were the borogoves,   And the mome raths outgrabe. \"Beware the Jabberwock, my son!   The jaws that bite, the claws that catch! Beware the Jubjub bird, and shun   The frumious Bandersnatch!\" He took his vorpal sword in hand;   Long time the manxome foe he sought- So rested he by the Tumtum tree   And stood awhile in thought. And, as in uffish thought he stood,   The Jabberwock, wit: eyes of flame, Came whiffling through the tulgey wood,   And burbled as it came! One, two! One, two! And through and through   The vorpal blade went snicker-snack! He left it dead, and with its head   He went galumphing back. \"And hast thou slain the Jabberwock?   Come to my arms, my beamish boy! O frabjous day! Callooh! Callay!\"   He chortled in his joy. \\'Twas brillig, and the slithy toves   Did gyre and gimble in the wabe: All mimsy were the borogoves,   And the mome raths outgrabe.'"
            ],
            "application/vnd.google.colaboratory.intrinsic+json": {
              "type": "string"
            }
          },
          "metadata": {},
          "execution_count": 104
        }
      ]
    }
  ],
  "metadata": {
    "kernelspec": {
      "name": "python3",
      "language": "python",
      "display_name": "Python 3 (ipykernel)"
    },
    "colab": {
      "provenance": []
    }
  },
  "nbformat": 4,
  "nbformat_minor": 0
}